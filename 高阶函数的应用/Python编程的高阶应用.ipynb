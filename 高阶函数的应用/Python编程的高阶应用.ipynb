{
 "cells": [
  {
   "cell_type": "markdown",
   "metadata": {},
   "source": [
    "### lambda 表达式\n",
    "又被称为匿名函数\n",
    "\n",
    "格式 lambda 参数列表：函数体\n"
   ]
  },
  {
   "cell_type": "code",
   "execution_count": 1,
   "metadata": {},
   "outputs": [
    {
     "name": "stdout",
     "output_type": "stream",
     "text": [
      "7\n"
     ]
    }
   ],
   "source": [
    "def add(x,y):\n",
    "    return x+y\n",
    "print(add(3,4))"
   ]
  },
  {
   "cell_type": "code",
   "execution_count": 2,
   "metadata": {},
   "outputs": [
    {
     "data": {
      "text/plain": [
       "7"
      ]
     },
     "execution_count": 2,
     "metadata": {},
     "output_type": "execute_result"
    }
   ],
   "source": [
    "add_lambda=lambda x,y:x + y\n",
    "add_lambda(3,4)"
   ]
  },
  {
   "cell_type": "markdown",
   "metadata": {},
   "source": [
    "### 三元运算符"
   ]
  },
  {
   "cell_type": "code",
   "execution_count": 3,
   "metadata": {},
   "outputs": [
    {
     "name": "stdout",
     "output_type": "stream",
     "text": [
      "2\n"
     ]
    }
   ],
   "source": [
    "condition = False\n",
    "print(1 if condition else 2)\n"
   ]
  },
  {
   "cell_type": "code",
   "execution_count": 4,
   "metadata": {
    "scrolled": true
   },
   "outputs": [
    {
     "name": "stdout",
     "output_type": "stream",
     "text": [
      "1\n"
     ]
    }
   ],
   "source": [
    "condition = True\n",
    "print(1 if condition else 2)"
   ]
  },
  {
   "cell_type": "markdown",
   "metadata": {},
   "source": [
    "### map 函数的应用"
   ]
  },
  {
   "cell_type": "code",
   "execution_count": 1,
   "metadata": {
    "scrolled": false
   },
   "outputs": [
    {
     "name": "stdout",
     "output_type": "stream",
     "text": [
      "[2, 4, 6, 8, 10]\n"
     ]
    }
   ],
   "source": [
    "list_1 = [1,2,3,4,5]\n",
    "a = map(lambda x: x + x, list_1)\n",
    "b = list(a)\n",
    "\n",
    "print(b)"
   ]
  },
  {
   "cell_type": "code",
   "execution_count": 3,
   "metadata": {},
   "outputs": [
    {
     "name": "stdout",
     "output_type": "stream",
     "text": [
      "[2, 6, 12, 20, 30]\n"
     ]
    }
   ],
   "source": [
    "m1 = map(lambda x,y :x*x+y,[1,2,3,4,5],[1,2,3,4,5])\n",
    "print(list(m1))"
   ]
  },
  {
   "cell_type": "markdown",
   "metadata": {},
   "source": [
    "### filter 过滤器"
   ]
  },
  {
   "cell_type": "code",
   "execution_count": 5,
   "metadata": {},
   "outputs": [
    {
     "name": "stdout",
     "output_type": "stream",
     "text": [
      "['hello', 'greedy', 'ai']\n"
     ]
    }
   ],
   "source": [
    "def is_no_none(s):\n",
    "    return s and len(s.strip()) > 0\n",
    "list2 = ['','','hello','greedy',None,'ai']\n",
    "resule = filter(is_no_none,list2)\n",
    "print(list(resule))"
   ]
  },
  {
   "cell_type": "markdown",
   "metadata": {},
   "source": [
    "### reduce函数"
   ]
  },
  {
   "cell_type": "code",
   "execution_count": 7,
   "metadata": {},
   "outputs": [
    {
     "name": "stdout",
     "output_type": "stream",
     "text": [
      "25\n"
     ]
    }
   ],
   "source": [
    "from functools import reduce\n",
    "f = lambda x,y:x+y\n",
    "r = reduce(f,[1,2,3,4,5],10)\n",
    "print(r)"
   ]
  },
  {
   "cell_type": "markdown",
   "metadata": {},
   "source": [
    "### 列表推导\n",
    "根据已有的列表推导出列表"
   ]
  },
  {
   "cell_type": "code",
   "execution_count": 12,
   "metadata": {},
   "outputs": [
    {
     "name": "stdout",
     "output_type": "stream",
     "text": [
      "[2, 4, 6, 8, 10, 12]\n",
      "[2, 4, 6, 8, 10, 12]\n",
      "[1, 8, 27, 64, 125, 216]\n",
      "[16, 25, 36]\n"
     ]
    }
   ],
   "source": [
    "list1 = [1,2,3,4,5,6]\n",
    "f = map(lambda x:x+x,list1)\n",
    "print(list(f))\n",
    "\n",
    "list2 = [i + i for i in list1]\n",
    "print(list2)\n",
    "\n",
    "list3 = [i**3 for i in list1]\n",
    "print(list3)\n",
    "\n",
    "#有选择性的筛选\n",
    "\n",
    "list4 = [i*i for i in list1 if i > 3]\n",
    "print(list4)"
   ]
  },
  {
   "cell_type": "markdown",
   "metadata": {},
   "source": [
    "### 集合推导式"
   ]
  },
  {
   "cell_type": "code",
   "execution_count": 13,
   "metadata": {},
   "outputs": [
    {
     "name": "stdout",
     "output_type": "stream",
     "text": [
      "[2, 4, 6, 8, 10, 12]\n",
      "{2, 4, 6, 8, 10, 12}\n",
      "{64, 1, 8, 216, 27, 125}\n",
      "{16, 25, 36}\n"
     ]
    }
   ],
   "source": [
    "list1 = {1,2,3,4,5,6}\n",
    "f = map(lambda x:x+x,list1)\n",
    "print(list(f))\n",
    "\n",
    "list2 = {i + i for i in list1}\n",
    "print(list2)\n",
    "\n",
    "list3 = {i**3 for i in list1}\n",
    "print(list3)\n",
    "\n",
    "#有选择性的筛选\n",
    "\n",
    "list4 = {i*i for i in list1 if i > 3}\n",
    "print(list4)"
   ]
  },
  {
   "cell_type": "markdown",
   "metadata": {},
   "source": [
    "### 字典推导式"
   ]
  },
  {
   "cell_type": "code",
   "execution_count": 20,
   "metadata": {},
   "outputs": [
    {
     "name": "stdout",
     "output_type": "stream",
     "text": [
      "['zhangsanaaa', 'lisiaaa', 'wangwuaaa']\n",
      "{20: 'zhangsan', 15: 'lisi', 31: 'wangwu'}\n",
      "{'lisi': 15}\n"
     ]
    }
   ],
   "source": [
    "s= {\n",
    "    \"zhangsan\":20,\n",
    "    \"lisi\":15,\n",
    "    \"wangwu\":31\n",
    "}\n",
    "\n",
    "#拿出所有的key，变成列表\n",
    "s_key = [key+\"aaa\" for key, value in s.items()]\n",
    "print(s_key)\n",
    "\n",
    "#key和value颠倒\n",
    "s1 = {value: key for key ,value in s.items()}\n",
    "print(s1)\n",
    "\n",
    "#只拿出符合条件的\n",
    "s2 = {key:value for key, value in s.items() if key == \"lisi\"}\n",
    "print(s2)"
   ]
  },
  {
   "cell_type": "markdown",
   "metadata": {},
   "source": [
    "### 闭包 ：一个返回值是函数的函数"
   ]
  },
  {
   "cell_type": "code",
   "execution_count": 24,
   "metadata": {},
   "outputs": [
    {
     "name": "stdout",
     "output_type": "stream",
     "text": [
      "1614691603.9180338\n"
     ]
    }
   ],
   "source": [
    "#调用打印当前的时间\n",
    "import time\n",
    "def runtime():\n",
    "    def now_time():\n",
    "        print(time.time())\n",
    "    return now_time\n",
    "f = runtime()#f是一个函数（now_time）\n",
    "f()"
   ]
  },
  {
   "cell_type": "code",
   "execution_count": 33,
   "metadata": {},
   "outputs": [
    {
     "name": "stdout",
     "output_type": "stream",
     "text": [
      "锘�\"a,b,c,d,e\"\n",
      "\"1,2,3,4,5\"\n",
      "\"6,7,8,9,10\"\n"
     ]
    }
   ],
   "source": [
    "!type data.csv\n"
   ]
  },
  {
   "cell_type": "code",
   "execution_count": 1,
   "metadata": {},
   "outputs": [
    {
     "ename": "UnicodeDecodeError",
     "evalue": "'gbk' codec can't decode byte 0xbf in position 2: illegal multibyte sequence",
     "output_type": "error",
     "traceback": [
      "\u001b[1;31m---------------------------------------------------------------------------\u001b[0m",
      "\u001b[1;31mUnicodeDecodeError\u001b[0m                        Traceback (most recent call last)",
      "\u001b[1;32m<ipython-input-1-5bc1dfd113cd>\u001b[0m in \u001b[0;36m<module>\u001b[1;34m()\u001b[0m\n\u001b[0;32m      9\u001b[0m \u001b[1;33m\u001b[0m\u001b[0m\n\u001b[0;32m     10\u001b[0m \u001b[0mfilter1\u001b[0m \u001b[1;33m=\u001b[0m \u001b[0mmake_filter\u001b[0m\u001b[1;33m(\u001b[0m\u001b[1;34m\"8\"\u001b[0m\u001b[1;33m)\u001b[0m\u001b[1;33m\u001b[0m\u001b[0m\n\u001b[1;32m---> 11\u001b[1;33m \u001b[0mfilter_result\u001b[0m \u001b[1;33m=\u001b[0m \u001b[0mfilter1\u001b[0m\u001b[1;33m(\u001b[0m\u001b[1;34m\"data.csv\"\u001b[0m\u001b[1;33m)\u001b[0m\u001b[1;33m\u001b[0m\u001b[0m\n\u001b[0m\u001b[0;32m     12\u001b[0m \u001b[0mprint\u001b[0m\u001b[1;33m(\u001b[0m\u001b[0mfilter_result\u001b[0m\u001b[1;33m)\u001b[0m\u001b[1;33m\u001b[0m\u001b[0m\n",
      "\u001b[1;32m<ipython-input-1-5bc1dfd113cd>\u001b[0m in \u001b[0;36mthe_filter\u001b[1;34m(file_name)\u001b[0m\n\u001b[0;32m      2\u001b[0m     \u001b[1;32mdef\u001b[0m \u001b[0mthe_filter\u001b[0m\u001b[1;33m(\u001b[0m\u001b[0mfile_name\u001b[0m\u001b[1;33m)\u001b[0m\u001b[1;33m:\u001b[0m\u001b[1;33m\u001b[0m\u001b[0m\n\u001b[0;32m      3\u001b[0m         \u001b[0mfile\u001b[0m \u001b[1;33m=\u001b[0m \u001b[0mopen\u001b[0m\u001b[1;33m(\u001b[0m\u001b[0mfile_name\u001b[0m\u001b[1;33m)\u001b[0m\u001b[1;33m\u001b[0m\u001b[0m\n\u001b[1;32m----> 4\u001b[1;33m         \u001b[0mlines\u001b[0m \u001b[1;33m=\u001b[0m \u001b[0mfile\u001b[0m\u001b[1;33m.\u001b[0m\u001b[0mreadlines\u001b[0m\u001b[1;33m(\u001b[0m\u001b[1;33m)\u001b[0m\u001b[1;33m\u001b[0m\u001b[0m\n\u001b[0m\u001b[0;32m      5\u001b[0m         \u001b[0mfile\u001b[0m\u001b[1;33m.\u001b[0m\u001b[0mclose\u001b[0m\u001b[1;33m(\u001b[0m\u001b[1;33m)\u001b[0m\u001b[1;33m\u001b[0m\u001b[0m\n\u001b[0;32m      6\u001b[0m         \u001b[0mfilter_doc\u001b[0m \u001b[1;33m=\u001b[0m \u001b[1;33m[\u001b[0m\u001b[0mi\u001b[0m \u001b[1;32mfor\u001b[0m \u001b[0mi\u001b[0m \u001b[1;32min\u001b[0m \u001b[0mlines\u001b[0m \u001b[1;32mif\u001b[0m \u001b[0mkeep\u001b[0m \u001b[1;32min\u001b[0m \u001b[0mi\u001b[0m\u001b[1;33m]\u001b[0m\u001b[1;33m\u001b[0m\u001b[0m\n",
      "\u001b[1;31mUnicodeDecodeError\u001b[0m: 'gbk' codec can't decode byte 0xbf in position 2: illegal multibyte sequence"
     ]
    }
   ],
   "source": [
    "def make_filter(keep):\n",
    "    def the_filter(file_name):\n",
    "        file = open(file_name)\n",
    "        lines = file.readlines()\n",
    "        file.close()\n",
    "        filter_doc = [i for i in lines if keep in i]\n",
    "        return filter_doc\n",
    "    return the_filter\n",
    "\n",
    "filter1 = make_filter(\"8\")\n",
    "filter_result = filter1(\"data.csv\")\n",
    "print(filter_result)"
   ]
  },
  {
   "cell_type": "markdown",
   "metadata": {},
   "source": [
    "### 装饰器，语法糖，注解"
   ]
  },
  {
   "cell_type": "code",
   "execution_count": 2,
   "metadata": {},
   "outputs": [
    {
     "name": "stdout",
     "output_type": "stream",
     "text": [
      "1614741584.8170104\n",
      "学生跑\n"
     ]
    }
   ],
   "source": [
    "#获取每一个函数运行时间\n",
    "import time\n",
    "def runtime(func):\n",
    "    def get_time():\n",
    "        print(time.time())\n",
    "        func()\n",
    "    return get_time\n",
    "@runtime\n",
    "def student_run():\n",
    "    print('学生跑')\n",
    "    \n",
    "student_run()"
   ]
  },
  {
   "cell_type": "code",
   "execution_count": 3,
   "metadata": {},
   "outputs": [
    {
     "name": "stdout",
     "output_type": "stream",
     "text": [
      "1614742603.401602\n",
      "学生跑\n",
      "1614742603.401602\n",
      "xuesheng1\n",
      "1614742603.401602\n",
      "学生跑\n"
     ]
    }
   ],
   "source": [
    "def runtime(func):\n",
    "    def get_time(*args,**kwargs):\n",
    "        print(time.time())\n",
    "        func(*args,**kwargs)\n",
    "    return get_time\n",
    "\n",
    "@runtime\n",
    "def student_run(i,j):\n",
    "    print(\"学生跑\")\n",
    "    \n",
    "@runtime\n",
    "def student_run1(*args,**kwargs):\n",
    "    print(\"xuesheng1\")\n",
    "    \n",
    "@runtime\n",
    "def student_run2():\n",
    "    print(\"学生跑\")\n",
    "student_run(1,2)\n",
    "student_run1(5,i = 1,j = 2)\n",
    "student_run2()"
   ]
  },
  {
   "cell_type": "markdown",
   "metadata": {},
   "source": [
    "## pip install numpy\n",
    "## pip install pandas"
   ]
  },
  {
   "cell_type": "code",
   "execution_count": 56,
   "metadata": {},
   "outputs": [
    {
     "name": "stdout",
     "output_type": "stream",
     "text": [
      "[1, 2, 3, 4, 5]\n",
      "[1 2 3 4 5 1 2 3 4 5 1 2 3 4 5 1 2 3 4 5 1 2 3 4 5 1 2 3 4 5 1 2 3 4 5 1 2\n",
      " 3 4 5 1 2 3 4 5 1 2 3 4 5]\n"
     ]
    }
   ],
   "source": [
    "import matplotlib.pyplot as plt \n",
    "import numpy as np\n",
    "data = [1,2,3,4,5]\n",
    "n = np.array(data * 10)\n",
    "print(data)\n",
    "print(n)"
   ]
  },
  {
   "cell_type": "code",
   "execution_count": 6,
   "metadata": {},
   "outputs": [
    {
     "data": {
      "text/plain": [
       "(50,)"
      ]
     },
     "execution_count": 6,
     "metadata": {},
     "output_type": "execute_result"
    }
   ],
   "source": [
    "n.shape #shape 方法表示获取到np数组的维度\n"
   ]
  },
  {
   "cell_type": "code",
   "execution_count": 7,
   "metadata": {},
   "outputs": [
    {
     "data": {
      "text/plain": [
       "dtype('int32')"
      ]
     },
     "execution_count": 7,
     "metadata": {},
     "output_type": "execute_result"
    }
   ],
   "source": [
    "n.dtype#dtype 属性表示数组类型"
   ]
  },
  {
   "cell_type": "markdown",
   "metadata": {},
   "source": [
    "### 嵌套序列：是由一组登场列表组成的列表"
   ]
  },
  {
   "cell_type": "code",
   "execution_count": 11,
   "metadata": {},
   "outputs": [
    {
     "name": "stdout",
     "output_type": "stream",
     "text": [
      "2\n",
      "(2, 4)\n"
     ]
    }
   ],
   "source": [
    "arr = [[1,2,3,4],[1,2,3,4]]\n",
    "arr2 = np.array(arr)\n",
    "np.array(arr)\n",
    "print(arr2.ndim)  #代表了维度\n",
    "print(arr2.shape)"
   ]
  },
  {
   "cell_type": "markdown",
   "metadata": {},
   "source": [
    "### numpy对数据类型的判断"
   ]
  },
  {
   "cell_type": "code",
   "execution_count": 14,
   "metadata": {},
   "outputs": [
    {
     "name": "stdout",
     "output_type": "stream",
     "text": [
      "[['1' '2' '3' '4']\n",
      " ['5' '6' '7' '8']]\n",
      "<U1\n"
     ]
    }
   ],
   "source": [
    "arr = [['1','2',3,4],[5,6,7,8]]\n",
    "arr2 = np.array(arr)\n",
    "print(arr2)\n",
    "print(arr2.dtype)"
   ]
  },
  {
   "cell_type": "code",
   "execution_count": 17,
   "metadata": {},
   "outputs": [
    {
     "name": "stdout",
     "output_type": "stream",
     "text": [
      "[[1, 2, 3, 4], [5, 6, 7, 8]]\n",
      "int32\n"
     ]
    }
   ],
   "source": [
    "arr = [[1,2,3,4],[5,6,7,8]]\n",
    "arr2 = np.array(arr)\n",
    "print(arr)\n",
    "print(arr2.dtype)"
   ]
  },
  {
   "cell_type": "code",
   "execution_count": null,
   "metadata": {},
   "outputs": [],
   "source": [
    "arr = [[1.1,2,3,4],[5,6,7,8]]#当成员当中有一个float时，那么numpy将变成float64\n",
    "arr2 = np.array(arr)\n",
    "print(arr)\n",
    "print(arr2.dtype)"
   ]
  },
  {
   "cell_type": "code",
   "execution_count": 19,
   "metadata": {},
   "outputs": [
    {
     "data": {
      "text/plain": [
       "array([0., 0., 0., 0., 0., 0., 0., 0., 0., 0.])"
      ]
     },
     "execution_count": 19,
     "metadata": {},
     "output_type": "execute_result"
    }
   ],
   "source": [
    "np.zeros(10)"
   ]
  },
  {
   "cell_type": "code",
   "execution_count": 20,
   "metadata": {},
   "outputs": [
    {
     "data": {
      "text/plain": [
       "array([[1., 1., 1.],\n",
       "       [1., 1., 1.]])"
      ]
     },
     "execution_count": 20,
     "metadata": {},
     "output_type": "execute_result"
    }
   ],
   "source": [
    "np.ones((2,3))"
   ]
  },
  {
   "cell_type": "code",
   "execution_count": 21,
   "metadata": {},
   "outputs": [
    {
     "data": {
      "text/plain": [
       "array([[[1., 1., 1.],\n",
       "        [1., 1., 1.]]])"
      ]
     },
     "execution_count": 21,
     "metadata": {},
     "output_type": "execute_result"
    }
   ],
   "source": [
    "np.empty((1,2,3))"
   ]
  },
  {
   "cell_type": "code",
   "execution_count": 23,
   "metadata": {},
   "outputs": [
    {
     "data": {
      "text/plain": [
       "array([0, 1, 2, 3, 4, 5, 6, 7, 8, 9])"
      ]
     },
     "execution_count": 23,
     "metadata": {},
     "output_type": "execute_result"
    }
   ],
   "source": [
    "np.arange(10)#arange时range的数组版本"
   ]
  },
  {
   "cell_type": "code",
   "execution_count": null,
   "metadata": {},
   "outputs": [],
   "source": [
    "arr = np.array([1.2,1.6,1.8,-2.3,-5.8])\n",
    "print(arr)\n",
    "print(dtype)\n",
    "print(arr.astype(np.int32))"
   ]
  },
  {
   "cell_type": "markdown",
   "metadata": {},
   "source": [
    "### int类型 8 16 32 64\n",
    "### float类型 16 32 64 128"
   ]
  },
  {
   "cell_type": "markdown",
   "metadata": {},
   "source": [
    "### 矢量化 包括加减乘除和广播"
   ]
  },
  {
   "cell_type": "markdown",
   "metadata": {},
   "source": [
    "### numpy数组的索引和切片"
   ]
  },
  {
   "cell_type": "code",
   "execution_count": 24,
   "metadata": {},
   "outputs": [
    {
     "name": "stdout",
     "output_type": "stream",
     "text": [
      "[0 1 2 3 4 5 6 7 8 9]\n",
      "1\n",
      "[4 5 6 7 8 9]\n",
      "[11 11 11 11  4  5  6  7  8  9]\n"
     ]
    }
   ],
   "source": [
    "arr = np.arange(10)\n",
    "print(arr)\n",
    "print(arr[1])\n",
    "print(arr[4:])\n",
    "\n",
    "arr[0:4] = 11\n",
    "print(arr)"
   ]
  },
  {
   "cell_type": "code",
   "execution_count": 26,
   "metadata": {},
   "outputs": [
    {
     "name": "stdout",
     "output_type": "stream",
     "text": [
      "2\n",
      "2\n"
     ]
    }
   ],
   "source": [
    "#一个二维数组的访问方式\n",
    "arr1 = np.array([[1,2,3],[4,5,6]])\n",
    "print(arr1[0][1])\n",
    "print(arr1[0,1])"
   ]
  },
  {
   "cell_type": "code",
   "execution_count": 30,
   "metadata": {},
   "outputs": [
    {
     "name": "stdout",
     "output_type": "stream",
     "text": [
      "[ True False]\n",
      "[False False]\n"
     ]
    }
   ],
   "source": [
    "names = np.array(['Tony','Jack'])\n",
    "print(names == 'Tony')\n",
    "print((names == 'Tony') & (names == 'Robin')) #and操作\n",
    "print((names == 'Tony') | (names == 'Robin')) #or 操作 "
   ]
  },
  {
   "cell_type": "markdown",
   "metadata": {},
   "source": [
    "### 花式索引（Fancy indexing）它是一个numpy中的属于，指的是利用整数数组进行索引"
   ]
  },
  {
   "cell_type": "code",
   "execution_count": null,
   "metadata": {},
   "outputs": [],
   "source": [
    "arr = np.empty((8,4))\n",
    "print(arr)\n",
    "for i in range(8):\n",
    "    arr[i] = i\n",
    "print(arr[4,3,0,6])\n",
    "#以一个特定的顺序进行中的子集，我们传入一个指定的顺序的整数列表，或数组\n",
    "#这里可以用复数索引从末尾获取"
   ]
  },
  {
   "cell_type": "code",
   "execution_count": 35,
   "metadata": {},
   "outputs": [
    {
     "name": "stdout",
     "output_type": "stream",
     "text": [
      "[[ 4  5  6  7]\n",
      " [20 21 22 23]\n",
      " [28 29 30 31]\n",
      " [ 8  9 10 11]]\n",
      "[[ 4  7  5  6]\n",
      " [20 23 21 22]\n",
      " [28 31 29 30]\n",
      " [ 8 11  9 10]]\n",
      "[[ 4  7  5  6]\n",
      " [20 23 21 22]\n",
      " [28 31 29 30]\n",
      " [ 8 11  9 10]]\n"
     ]
    }
   ],
   "source": [
    "print(arr[[1,5,7,2]])\n",
    "print(arr[[1,5,7,2]][:,[0,3,1,2]])\n",
    "print(arr[np.ix_([1,5,7,2],[0,3,1,2])])"
   ]
  },
  {
   "cell_type": "code",
   "execution_count": 32,
   "metadata": {},
   "outputs": [
    {
     "name": "stdout",
     "output_type": "stream",
     "text": [
      "[[ 0  1  2  3]\n",
      " [ 4  5  6  7]\n",
      " [ 8  9 10 11]\n",
      " [12 13 14 15]\n",
      " [16 17 18 19]\n",
      " [20 21 22 23]\n",
      " [24 25 26 27]\n",
      " [28 29 30 31]]\n"
     ]
    }
   ],
   "source": [
    "arr = np.arange(32).reshape((8,4))\n",
    "print(arr)"
   ]
  },
  {
   "cell_type": "markdown",
   "metadata": {},
   "source": [
    "### 数组转置和轴兑换\n",
    "转置就是数组的一种特殊形式，常用的方法T和transpose"
   ]
  },
  {
   "cell_type": "code",
   "execution_count": 36,
   "metadata": {},
   "outputs": [
    {
     "name": "stdout",
     "output_type": "stream",
     "text": [
      "[[ 0  1  2  3  4]\n",
      " [ 5  6  7  8  9]\n",
      " [10 11 12 13 14]]\n",
      "[[ 0  5 10]\n",
      " [ 1  6 11]\n",
      " [ 2  7 12]\n",
      " [ 3  8 13]\n",
      " [ 4  9 14]]\n",
      "[[ 0  5 10]\n",
      " [ 1  6 11]\n",
      " [ 2  7 12]\n",
      " [ 3  8 13]\n",
      " [ 4  9 14]]\n"
     ]
    }
   ],
   "source": [
    "arr = np.arange(15).reshape((3,5))\n",
    "print(arr)\n",
    "print(arr.transpose())\n",
    "print(arr.T)"
   ]
  },
  {
   "cell_type": "code",
   "execution_count": 37,
   "metadata": {},
   "outputs": [
    {
     "name": "stdout",
     "output_type": "stream",
     "text": [
      "[[[ 0  1  2  3]\n",
      "  [ 4  5  6  7]\n",
      "  [ 8  9 10 11]]\n",
      "\n",
      " [[12 13 14 15]\n",
      "  [16 17 18 19]\n",
      "  [20 21 22 23]]]\n",
      "[[[ 0 12]\n",
      "  [ 1 13]\n",
      "  [ 2 14]\n",
      "  [ 3 15]]\n",
      "\n",
      " [[ 4 16]\n",
      "  [ 5 17]\n",
      "  [ 6 18]\n",
      "  [ 7 19]]\n",
      "\n",
      " [[ 8 20]\n",
      "  [ 9 21]\n",
      "  [10 22]\n",
      "  [11 23]]]\n"
     ]
    }
   ],
   "source": [
    "arr = np.arange(24).reshape((2,3,4))\n",
    "print(arr)\n",
    "print(arr.transpose((1,2,0)))"
   ]
  },
  {
   "cell_type": "markdown",
   "metadata": {},
   "source": [
    "### 条件逻辑转数组\n",
    "np.where 等同于 x if condition else y 矢量化的一个版本\n",
    "x if condition else y 表示的意思是当条件condition成立时，表达式的返回值是x，不成立时返回的是y np.where的写法，一般用于根据一个数组产生一个新的数组，跟python中函数式变成中的map、reduce等函数类似"
   ]
  },
  {
   "cell_type": "code",
   "execution_count": 38,
   "metadata": {},
   "outputs": [
    {
     "name": "stdout",
     "output_type": "stream",
     "text": [
      "[1.1, 2.2, 1.3]\n"
     ]
    }
   ],
   "source": [
    "x_arr = np.array([1.1,1.2,1.3])\n",
    "y_arr = np.array([2.1,2.2,2.3])\n",
    "condition = np.array([True,False,True])\n",
    "result = [(x if c else y) for x,y,c in zip (x_arr,y_arr,condition)]\n",
    "#zip接受的参数是可迭代的对象\n",
    "print(result)"
   ]
  },
  {
   "cell_type": "markdown",
   "metadata": {},
   "source": [
    "### numpy 的数学运算\n",
    "常用函数 sum mean std"
   ]
  },
  {
   "cell_type": "code",
   "execution_count": 39,
   "metadata": {},
   "outputs": [
    {
     "name": "stdout",
     "output_type": "stream",
     "text": [
      "[[ 1.65280744 -0.98571728 -0.90626014  0.01925247]\n",
      " [-0.59600176  0.08572226 -0.30344278  0.9283165 ]\n",
      " [-0.43109257 -0.41936113  0.93806641 -1.28586459]\n",
      " [ 1.29195534 -1.37277681 -0.06090799 -1.51422777]]\n",
      "-0.18497077431806752\n",
      "-0.18497077431806752\n",
      "-2.9595323890890803\n",
      "0.9367316422454959\n"
     ]
    }
   ],
   "source": [
    "arr = np.random.randn(4,4)\n",
    "print(arr)\n",
    "print(arr.mean())\n",
    "print(np.mean(arr))\n",
    "print(arr.sum())\n",
    "print(arr.std())\n"
   ]
  },
  {
   "cell_type": "markdown",
   "metadata": {},
   "source": [
    "### 在一个轴上运算\n"
   ]
  },
  {
   "cell_type": "code",
   "execution_count": 40,
   "metadata": {},
   "outputs": [
    {
     "name": "stdout",
     "output_type": "stream",
     "text": [
      "[-0.05497938  0.02864856 -0.29956297 -0.41398931]\n"
     ]
    }
   ],
   "source": [
    "print(arr.mean(axis=1))#计算轴1上的平均值\n",
    "print(arr.sum(0))#计算轴0上的和"
   ]
  },
  {
   "cell_type": "code",
   "execution_count": null,
   "metadata": {},
   "outputs": [],
   "source": [
    "#argmin argmax cumsum"
   ]
  },
  {
   "cell_type": "markdown",
   "metadata": {},
   "source": [
    "### 排序方法"
   ]
  },
  {
   "cell_type": "code",
   "execution_count": 42,
   "metadata": {},
   "outputs": [
    {
     "name": "stdout",
     "output_type": "stream",
     "text": [
      "[ 1.90342398 -0.17650377 -0.83347901  0.38318821]\n",
      "[-0.83347901 -0.17650377  0.38318821  1.90342398]\n"
     ]
    }
   ],
   "source": [
    "arr = np.random.randn(4)\n",
    "print(arr)\n",
    "arr.sort()#从小到大进行排序\n",
    "print(arr)"
   ]
  },
  {
   "cell_type": "code",
   "execution_count": 41,
   "metadata": {},
   "outputs": [
    {
     "name": "stdout",
     "output_type": "stream",
     "text": [
      "[[-1.06746588 -0.71136386  0.60789041  0.28500507]\n",
      " [-1.55928141 -0.49806078  0.01828659  0.68819658]\n",
      " [ 0.01707712 -0.42015067 -0.75196226 -1.95453232]\n",
      " [ 0.948422   -0.3748375   0.39031333  0.73371975]]\n",
      "[[-1.06746588 -0.71136386  0.28500507  0.60789041]\n",
      " [-1.55928141 -0.49806078  0.01828659  0.68819658]\n",
      " [-1.95453232 -0.75196226 -0.42015067  0.01707712]\n",
      " [-0.3748375   0.39031333  0.73371975  0.948422  ]]\n",
      "[[-1.06746588 -0.71136386  0.28500507  0.60789041]\n",
      " [-1.55928141 -0.49806078  0.01828659  0.68819658]\n",
      " [-1.95453232 -0.75196226 -0.42015067  0.01707712]\n",
      " [-0.3748375   0.39031333  0.73371975  0.948422  ]]\n"
     ]
    }
   ],
   "source": [
    "#多维数组排序\n",
    "arr = np.random.randn(4,4)\n",
    "print(arr)\n",
    "arr.sort(1)#传递轴号，按轴来进行排序\n",
    "print(arr)\n",
    "arr.sort()\n",
    "print(arr)"
   ]
  },
  {
   "cell_type": "markdown",
   "metadata": {},
   "source": [
    "### numpy的文件操作\n",
    "numpy可以读写磁盘上的文本数据和二进制数据\n",
    "主要应用的函数就是s.save和np.load，默认情况下数据是以压缩的原始二进制格式来保存在扩展名为.npy的文件中\n"
   ]
  },
  {
   "cell_type": "code",
   "execution_count": 44,
   "metadata": {},
   "outputs": [
    {
     "name": "stdout",
     "output_type": "stream",
     "text": [
      "[0 1 2 3 4 5 6 7 8 9]\n"
     ]
    }
   ],
   "source": [
    "arr = np.arange(10)\n",
    "print(arr)\n",
    "np.save('any_array',arr)"
   ]
  },
  {
   "cell_type": "code",
   "execution_count": 45,
   "metadata": {},
   "outputs": [
    {
     "data": {
      "text/plain": [
       "array([0, 1, 2, 3, 4, 5, 6, 7, 8, 9])"
      ]
     },
     "execution_count": 45,
     "metadata": {},
     "output_type": "execute_result"
    }
   ],
   "source": [
    "np.load('any_array.npy')"
   ]
  },
  {
   "cell_type": "code",
   "execution_count": 48,
   "metadata": {},
   "outputs": [
    {
     "data": {
      "text/plain": [
       "<numpy.lib.npyio.NpzFile at 0x1fe4e2574e0>"
      ]
     },
     "execution_count": 48,
     "metadata": {},
     "output_type": "execute_result"
    }
   ],
   "source": [
    "arr = np.arange(10)\n",
    "np.savez(\"any_array_1\",a=arr)#保存成压缩文件，数组以关键字的行是传入\n",
    "np.load('any_array_1.npz')"
   ]
  },
  {
   "cell_type": "code",
   "execution_count": 49,
   "metadata": {},
   "outputs": [
    {
     "data": {
      "text/plain": [
       "array([0., 1., 2., 3., 4., 5., 6., 7., 8., 9.])"
      ]
     },
     "execution_count": 49,
     "metadata": {},
     "output_type": "execute_result"
    }
   ],
   "source": [
    "arr = np.arange(10)\n",
    "np.savetxt('any_array.txt',arr,delimiter = ',')\n",
    "np.loadtxt('any_array.txt',delimiter=',')"
   ]
  },
  {
   "cell_type": "markdown",
   "metadata": {},
   "source": [
    "### 线性代数\n",
    "dot 矩阵的乘法运算\n",
    "trace 计算矩阵的对角线元素的和\n",
    "det 计算矩阵的行列式\n",
    "eig 计算方阵的本征特征值\n",
    "inv 计算方阵的逆"
   ]
  },
  {
   "cell_type": "code",
   "execution_count": 52,
   "metadata": {},
   "outputs": [
    {
     "name": "stdout",
     "output_type": "stream",
     "text": [
      "[[30 36]\n",
      " [66 81]]\n"
     ]
    }
   ],
   "source": [
    "x = np.array([[1,2,3],[4,5,6]])\n",
    "y = np.array([[1,2],[4,5],[7,8]])\n",
    "print(x.dot(y))"
   ]
  },
  {
   "cell_type": "markdown",
   "metadata": {},
   "source": [
    "### 随机漫步的例子"
   ]
  },
  {
   "cell_type": "code",
   "execution_count": 58,
   "metadata": {},
   "outputs": [
    {
     "name": "stdout",
     "output_type": "stream",
     "text": [
      "11\n"
     ]
    },
    {
     "name": "stderr",
     "output_type": "stream",
     "text": [
      "C:\\Users\\w\\Anaconda3\\lib\\site-packages\\ipykernel_launcher.py:6: DeprecationWarning: The truth value of an empty array is ambiguous. Returning False, but in future this will result in an error. Use `array.size > 0` to check that an array is not empty.\n",
      "  \n"
     ]
    },
    {
     "data": {
      "image/png": "[encoded data removed]",
      "text/plain": [
       "<Figure size 432x288 with 1 Axes>"
      ]
     },
     "metadata": {
      "needs_background": "light"
     },
     "output_type": "display_data"
    }
   ],
   "source": [
    "#求什么时候第一次距离初始点10步远\n",
    "position = 0#初始化一个位置的值\n",
    "walk = [position]#步值初始化\n",
    "steps = 1000#步数设置\n",
    "for i in range(steps):\n",
    "    step = 1 if np.random.rand(0,2) else -1\n",
    "    position += step\n",
    "    walk.append(position)\n",
    "plt.plot(walk)\n",
    "print((np.abs(walk)>10).argmax())"
   ]
  },
  {
   "cell_type": "code",
   "execution_count": null,
   "metadata": {},
   "outputs": [],
   "source": []
  }
 ],
 "metadata": {
  "kernelspec": {
   "display_name": "Python 3",
   "language": "python",
   "name": "python3"
  },
  "language_info": {
   "codemirror_mode": {
    "name": "ipython",
    "version": 3
   },
   "file_extension": ".py",
   "mimetype": "text/x-python",
   "name": "python",
   "nbconvert_exporter": "python",
   "pygments_lexer": "ipython3",
   "version": "3.7.0"
  }
 },
 "nbformat": 4,
 "nbformat_minor": 2
}
