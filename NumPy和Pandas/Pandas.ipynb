{
 "cells": [
  {
   "cell_type": "markdown",
   "metadata": {},
   "source": [
    "### 为什么学习pandas \n",
    "#### 因为pandas含有使数据分析工作变得更简单的高级数据结构和操作工具\n",
    "#### pandas是基于NumPy来进行构建的，让以NumPy为中心的应用变得更简单\n"
   ]
  },
  {
   "cell_type": "code",
   "execution_count": 2,
   "metadata": {},
   "outputs": [],
   "source": [
    "# pip install pandas\n",
    "#引入pandas库\n",
    "import pandas as pd\n",
    "from pandas import Series,DataFrame"
   ]
  },
  {
   "cell_type": "markdown",
   "metadata": {},
   "source": [
    "### Series类型说明\n",
    "这个就是一种类似于一维数组的对象，它是由一组数据一级一组与之相关的数组标签组成的索引。仅由一组数据即可产生简单的Series"
   ]
  },
  {
   "cell_type": "code",
   "execution_count": 5,
   "metadata": {},
   "outputs": [
    {
     "name": "stdout",
     "output_type": "stream",
     "text": [
      "0    1\n",
      "1    2\n",
      "2    3\n",
      "3    4\n",
      "4    5\n",
      "dtype: int64\n",
      "[1 2 3 4 5]\n",
      "RangeIndex(start=0, stop=5, step=1)\n"
     ]
    }
   ],
   "source": [
    "obj = Series([1,2,3,4,5])\n",
    "print(obj)\n",
    "print(obj.values)\n",
    "print(obj.index)"
   ]
  },
  {
   "cell_type": "code",
   "execution_count": 8,
   "metadata": {},
   "outputs": [
    {
     "name": "stdout",
     "output_type": "stream",
     "text": [
      "1    a\n",
      "2    b\n",
      "3    c\n",
      "4    d\n",
      "5    e\n",
      "dtype: object\n"
     ]
    }
   ],
   "source": [
    "#自定义索引\n",
    "obj = Series(['a','b','c','d','e'],index=[1,2,3,4,5])\n",
    "print(obj)"
   ]
  },
  {
   "cell_type": "code",
   "execution_count": 9,
   "metadata": {},
   "outputs": [
    {
     "data": {
      "text/plain": [
       "'b'"
      ]
     },
     "execution_count": 9,
     "metadata": {},
     "output_type": "execute_result"
    }
   ],
   "source": [
    "obj[2]"
   ]
  },
  {
   "cell_type": "code",
   "execution_count": 11,
   "metadata": {},
   "outputs": [
    {
     "name": "stdout",
     "output_type": "stream",
     "text": [
      "a     10000\n",
      "b    200000\n",
      "c     30000\n",
      "dtype: int64\n",
      "a    10000\n",
      "c    30000\n",
      "dtype: int64\n"
     ]
    }
   ],
   "source": [
    "#我们也可以把Series当作字典来使用\n",
    "data = {'a':10000,'b':200000,'c':30000}\n",
    "obj = Series(data)#这个时候Series中的索引就是字典中的键\n",
    "print(obj)\n",
    "keys = ['a','c']\n",
    "obj_1 = Series(data,index=keys)\n",
    "print(obj_1)"
   ]
  },
  {
   "cell_type": "code",
   "execution_count": 12,
   "metadata": {},
   "outputs": [
    {
     "name": "stdout",
     "output_type": "stream",
     "text": [
      "a        NaN\n",
      "b    20000.0\n",
      "c    30000.0\n",
      "dtype: float64\n"
     ]
    }
   ],
   "source": [
    "#缺失数据的处理\n",
    "data = {'a':None,'b':20000,'c':30000}\n",
    "obj = Series(data)\n",
    "print(obj)"
   ]
  },
  {
   "cell_type": "code",
   "execution_count": 13,
   "metadata": {},
   "outputs": [
    {
     "data": {
      "text/plain": [
       "a     True\n",
       "b    False\n",
       "c    False\n",
       "dtype: bool"
      ]
     },
     "execution_count": 13,
     "metadata": {},
     "output_type": "execute_result"
    }
   ],
   "source": [
    "pd.isnull(obj)"
   ]
  },
  {
   "cell_type": "code",
   "execution_count": 15,
   "metadata": {},
   "outputs": [
    {
     "data": {
      "text/plain": [
       "a    False\n",
       "b     True\n",
       "c     True\n",
       "dtype: bool"
      ]
     },
     "execution_count": 15,
     "metadata": {},
     "output_type": "execute_result"
    }
   ],
   "source": [
    "pd.notnull(obj)"
   ]
  },
  {
   "cell_type": "code",
   "execution_count": 17,
   "metadata": {},
   "outputs": [
    {
     "name": "stdout",
     "output_type": "stream",
     "text": [
      "xingming\n",
      "Lilei     NaN\n",
      "Han      32.0\n",
      "Tony      NaN\n",
      "Jack     30.0\n",
      "Name: NameAndAge, dtype: float64\n"
     ]
    }
   ],
   "source": [
    "data = {'Lilei':None,'Han':32,'Tony':None,'Jack':30}\n",
    "obj =Series(data)\n",
    "obj.name = 'NameAndAge'#指定series对象的一个名称\n",
    "obj.index.name = 'xingming'#索引的名称\n",
    "print(obj)"
   ]
  },
  {
   "cell_type": "markdown",
   "metadata": {},
   "source": [
    "### DataFrme类型\n",
    "#### Dataframe是一个表给类型的数据结构，它含有一组有序的列。每列可以是不同值的类型、数值、字符串、布尔值都可以\n",
    "####  DataFrame也可以理解成是由Series组成的一个字典\n"
   ]
  },
  {
   "cell_type": "code",
   "execution_count": 21,
   "metadata": {},
   "outputs": [
    {
     "name": "stdout",
     "output_type": "stream",
     "text": [
      "   60  70  80\n",
      "0  gz  wg  ll\n",
      "1  xr  jg  zw\n",
      "0    wg\n",
      "1    jg\n",
      "Name: 70, dtype: object\n"
     ]
    }
   ],
   "source": [
    "#构建一个DataFrame\n",
    "data = {\n",
    "    '60':['gz','xr'],\n",
    "    '70':['wg','jg'],\n",
    "    '80':['ll','zw'],\n",
    "}\n",
    "\n",
    "frame_data = DataFrame(data)\n",
    "print(frame_data)\n",
    "print(frame_data['70'])"
   ]
  },
  {
   "cell_type": "code",
   "execution_count": 32,
   "metadata": {},
   "outputs": [
    {
     "name": "stdout",
     "output_type": "stream",
     "text": [
      "DatetimeIndex(['2019-03-01', '2019-03-02', '2019-03-03', '2019-03-04',\n",
      "               '2019-03-05', '2019-03-06'],\n",
      "              dtype='datetime64[ns]', freq='D')\n"
     ]
    }
   ],
   "source": [
    "import numpy as np\n",
    "dates = pd.date_range('20190301',periods=6)\n",
    "print(dates)"
   ]
  },
  {
   "cell_type": "code",
   "execution_count": 24,
   "metadata": {},
   "outputs": [
    {
     "name": "stdout",
     "output_type": "stream",
     "text": [
      "                   A         B         C         D\n",
      "2019-03-01  0.763057  0.550915  0.016232  0.709563\n",
      "2019-03-02  0.370663  0.535728  0.178306  0.455657\n",
      "2019-03-03  0.761314  0.708757  0.591674  0.018449\n",
      "2019-03-04  0.971646  0.272742  0.200368  0.566975\n",
      "2019-03-05  0.422630  0.165102  0.245871  0.687658\n",
      "2019-03-06  0.713137  0.732851  0.792072  0.290226\n"
     ]
    }
   ],
   "source": [
    "df = pd.DataFrame(np.random.rand(6,4),index = datas,columns = list('ABCD'))\n",
    "print(df)"
   ]
  },
  {
   "cell_type": "code",
   "execution_count": 26,
   "metadata": {},
   "outputs": [
    {
     "data": {
      "text/html": [
       "<div>\n",
       "<style scoped>\n",
       "    .dataframe tbody tr th:only-of-type {\n",
       "        vertical-align: middle;\n",
       "    }\n",
       "\n",
       "    .dataframe tbody tr th {\n",
       "        vertical-align: top;\n",
       "    }\n",
       "\n",
       "    .dataframe thead th {\n",
       "        text-align: right;\n",
       "    }\n",
       "</style>\n",
       "<table border=\"1\" class=\"dataframe\">\n",
       "  <thead>\n",
       "    <tr style=\"text-align: right;\">\n",
       "      <th></th>\n",
       "      <th>2019-03-01 00:00:00</th>\n",
       "      <th>2019-03-02 00:00:00</th>\n",
       "      <th>2019-03-03 00:00:00</th>\n",
       "      <th>2019-03-04 00:00:00</th>\n",
       "      <th>2019-03-05 00:00:00</th>\n",
       "      <th>2019-03-06 00:00:00</th>\n",
       "    </tr>\n",
       "  </thead>\n",
       "  <tbody>\n",
       "    <tr>\n",
       "      <th>A</th>\n",
       "      <td>0.763057</td>\n",
       "      <td>0.370663</td>\n",
       "      <td>0.761314</td>\n",
       "      <td>0.971646</td>\n",
       "      <td>0.422630</td>\n",
       "      <td>0.713137</td>\n",
       "    </tr>\n",
       "    <tr>\n",
       "      <th>B</th>\n",
       "      <td>0.550915</td>\n",
       "      <td>0.535728</td>\n",
       "      <td>0.708757</td>\n",
       "      <td>0.272742</td>\n",
       "      <td>0.165102</td>\n",
       "      <td>0.732851</td>\n",
       "    </tr>\n",
       "    <tr>\n",
       "      <th>C</th>\n",
       "      <td>0.016232</td>\n",
       "      <td>0.178306</td>\n",
       "      <td>0.591674</td>\n",
       "      <td>0.200368</td>\n",
       "      <td>0.245871</td>\n",
       "      <td>0.792072</td>\n",
       "    </tr>\n",
       "    <tr>\n",
       "      <th>D</th>\n",
       "      <td>0.709563</td>\n",
       "      <td>0.455657</td>\n",
       "      <td>0.018449</td>\n",
       "      <td>0.566975</td>\n",
       "      <td>0.687658</td>\n",
       "      <td>0.290226</td>\n",
       "    </tr>\n",
       "  </tbody>\n",
       "</table>\n",
       "</div>"
      ],
      "text/plain": [
       "   2019-03-01  2019-03-02  2019-03-03  2019-03-04  2019-03-05  2019-03-06\n",
       "A    0.763057    0.370663    0.761314    0.971646    0.422630    0.713137\n",
       "B    0.550915    0.535728    0.708757    0.272742    0.165102    0.732851\n",
       "C    0.016232    0.178306    0.591674    0.200368    0.245871    0.792072\n",
       "D    0.709563    0.455657    0.018449    0.566975    0.687658    0.290226"
      ]
     },
     "execution_count": 26,
     "metadata": {},
     "output_type": "execute_result"
    }
   ],
   "source": [
    "df.T#转置"
   ]
  },
  {
   "cell_type": "code",
   "execution_count": 27,
   "metadata": {},
   "outputs": [
    {
     "data": {
      "text/html": [
       "<div>\n",
       "<style scoped>\n",
       "    .dataframe tbody tr th:only-of-type {\n",
       "        vertical-align: middle;\n",
       "    }\n",
       "\n",
       "    .dataframe tbody tr th {\n",
       "        vertical-align: top;\n",
       "    }\n",
       "\n",
       "    .dataframe thead th {\n",
       "        text-align: right;\n",
       "    }\n",
       "</style>\n",
       "<table border=\"1\" class=\"dataframe\">\n",
       "  <thead>\n",
       "    <tr style=\"text-align: right;\">\n",
       "      <th></th>\n",
       "      <th>A</th>\n",
       "      <th>B</th>\n",
       "      <th>C</th>\n",
       "      <th>D</th>\n",
       "    </tr>\n",
       "  </thead>\n",
       "  <tbody>\n",
       "    <tr>\n",
       "      <th>2019-03-01</th>\n",
       "      <td>0.763057</td>\n",
       "      <td>0.550915</td>\n",
       "      <td>0.016232</td>\n",
       "      <td>0.709563</td>\n",
       "    </tr>\n",
       "    <tr>\n",
       "      <th>2019-03-02</th>\n",
       "      <td>0.370663</td>\n",
       "      <td>0.535728</td>\n",
       "      <td>0.178306</td>\n",
       "      <td>0.455657</td>\n",
       "    </tr>\n",
       "    <tr>\n",
       "      <th>2019-03-03</th>\n",
       "      <td>0.761314</td>\n",
       "      <td>0.708757</td>\n",
       "      <td>0.591674</td>\n",
       "      <td>0.018449</td>\n",
       "    </tr>\n",
       "  </tbody>\n",
       "</table>\n",
       "</div>"
      ],
      "text/plain": [
       "                   A         B         C         D\n",
       "2019-03-01  0.763057  0.550915  0.016232  0.709563\n",
       "2019-03-02  0.370663  0.535728  0.178306  0.455657\n",
       "2019-03-03  0.761314  0.708757  0.591674  0.018449"
      ]
     },
     "execution_count": 27,
     "metadata": {},
     "output_type": "execute_result"
    }
   ],
   "source": [
    "df['20190301':'20190303']"
   ]
  },
  {
   "cell_type": "code",
   "execution_count": 28,
   "metadata": {},
   "outputs": [
    {
     "data": {
      "text/html": [
       "<div>\n",
       "<style scoped>\n",
       "    .dataframe tbody tr th:only-of-type {\n",
       "        vertical-align: middle;\n",
       "    }\n",
       "\n",
       "    .dataframe tbody tr th {\n",
       "        vertical-align: top;\n",
       "    }\n",
       "\n",
       "    .dataframe thead th {\n",
       "        text-align: right;\n",
       "    }\n",
       "</style>\n",
       "<table border=\"1\" class=\"dataframe\">\n",
       "  <thead>\n",
       "    <tr style=\"text-align: right;\">\n",
       "      <th></th>\n",
       "      <th>A</th>\n",
       "      <th>B</th>\n",
       "    </tr>\n",
       "  </thead>\n",
       "  <tbody>\n",
       "    <tr>\n",
       "      <th>2019-03-01</th>\n",
       "      <td>0.763057</td>\n",
       "      <td>0.550915</td>\n",
       "    </tr>\n",
       "    <tr>\n",
       "      <th>2019-03-02</th>\n",
       "      <td>0.370663</td>\n",
       "      <td>0.535728</td>\n",
       "    </tr>\n",
       "    <tr>\n",
       "      <th>2019-03-03</th>\n",
       "      <td>0.761314</td>\n",
       "      <td>0.708757</td>\n",
       "    </tr>\n",
       "  </tbody>\n",
       "</table>\n",
       "</div>"
      ],
      "text/plain": [
       "                   A         B\n",
       "2019-03-01  0.763057  0.550915\n",
       "2019-03-02  0.370663  0.535728\n",
       "2019-03-03  0.761314  0.708757"
      ]
     },
     "execution_count": 28,
     "metadata": {},
     "output_type": "execute_result"
    }
   ],
   "source": [
    "df.loc['20190301':'20190303',['A','B']] #对行和列同时进行筛选得"
   ]
  },
  {
   "cell_type": "code",
   "execution_count": 33,
   "metadata": {},
   "outputs": [
    {
     "data": {
      "text/plain": [
       "0.7630569373656431"
      ]
     },
     "execution_count": 33,
     "metadata": {},
     "output_type": "execute_result"
    }
   ],
   "source": [
    "df.at[dates[0],'A']"
   ]
  },
  {
   "cell_type": "code",
   "execution_count": 34,
   "metadata": {},
   "outputs": [
    {
     "data": {
      "text/html": [
       "<div>\n",
       "<style scoped>\n",
       "    .dataframe tbody tr th:only-of-type {\n",
       "        vertical-align: middle;\n",
       "    }\n",
       "\n",
       "    .dataframe tbody tr th {\n",
       "        vertical-align: top;\n",
       "    }\n",
       "\n",
       "    .dataframe thead th {\n",
       "        text-align: right;\n",
       "    }\n",
       "</style>\n",
       "<table border=\"1\" class=\"dataframe\">\n",
       "  <thead>\n",
       "    <tr style=\"text-align: right;\">\n",
       "      <th></th>\n",
       "      <th>A</th>\n",
       "      <th>B</th>\n",
       "      <th>C</th>\n",
       "      <th>D</th>\n",
       "    </tr>\n",
       "  </thead>\n",
       "  <tbody>\n",
       "    <tr>\n",
       "      <th>2019-03-01</th>\n",
       "      <td>0.763057</td>\n",
       "      <td>0.550915</td>\n",
       "      <td>0.016232</td>\n",
       "      <td>0.709563</td>\n",
       "    </tr>\n",
       "    <tr>\n",
       "      <th>2019-03-02</th>\n",
       "      <td>0.370663</td>\n",
       "      <td>0.535728</td>\n",
       "      <td>0.178306</td>\n",
       "      <td>0.455657</td>\n",
       "    </tr>\n",
       "  </tbody>\n",
       "</table>\n",
       "</div>"
      ],
      "text/plain": [
       "                   A         B         C         D\n",
       "2019-03-01  0.763057  0.550915  0.016232  0.709563\n",
       "2019-03-02  0.370663  0.535728  0.178306  0.455657"
      ]
     },
     "execution_count": 34,
     "metadata": {},
     "output_type": "execute_result"
    }
   ],
   "source": [
    "df.head(2)"
   ]
  },
  {
   "cell_type": "code",
   "execution_count": 36,
   "metadata": {},
   "outputs": [
    {
     "data": {
      "text/html": [
       "<div>\n",
       "<style scoped>\n",
       "    .dataframe tbody tr th:only-of-type {\n",
       "        vertical-align: middle;\n",
       "    }\n",
       "\n",
       "    .dataframe tbody tr th {\n",
       "        vertical-align: top;\n",
       "    }\n",
       "\n",
       "    .dataframe thead th {\n",
       "        text-align: right;\n",
       "    }\n",
       "</style>\n",
       "<table border=\"1\" class=\"dataframe\">\n",
       "  <thead>\n",
       "    <tr style=\"text-align: right;\">\n",
       "      <th></th>\n",
       "      <th>A</th>\n",
       "      <th>B</th>\n",
       "      <th>C</th>\n",
       "      <th>D</th>\n",
       "    </tr>\n",
       "  </thead>\n",
       "  <tbody>\n",
       "    <tr>\n",
       "      <th>2019-03-04</th>\n",
       "      <td>0.971646</td>\n",
       "      <td>0.272742</td>\n",
       "      <td>0.200368</td>\n",
       "      <td>0.566975</td>\n",
       "    </tr>\n",
       "    <tr>\n",
       "      <th>2019-03-05</th>\n",
       "      <td>0.422630</td>\n",
       "      <td>0.165102</td>\n",
       "      <td>0.245871</td>\n",
       "      <td>0.687658</td>\n",
       "    </tr>\n",
       "    <tr>\n",
       "      <th>2019-03-06</th>\n",
       "      <td>0.713137</td>\n",
       "      <td>0.732851</td>\n",
       "      <td>0.792072</td>\n",
       "      <td>0.290226</td>\n",
       "    </tr>\n",
       "  </tbody>\n",
       "</table>\n",
       "</div>"
      ],
      "text/plain": [
       "                   A         B         C         D\n",
       "2019-03-04  0.971646  0.272742  0.200368  0.566975\n",
       "2019-03-05  0.422630  0.165102  0.245871  0.687658\n",
       "2019-03-06  0.713137  0.732851  0.792072  0.290226"
      ]
     },
     "execution_count": 36,
     "metadata": {},
     "output_type": "execute_result"
    }
   ],
   "source": [
    "df.tail(3)"
   ]
  },
  {
   "cell_type": "markdown",
   "metadata": {},
   "source": [
    "### DataFreame构造函数能够接受哪些数据类型呢\n",
    "1、二维numpy array <br>\n",
    "2、由数组、列表或是元组组成的字典 <br>\n",
    "3、由Series组成的字典 <br>\n",
    "4、由字典组成的字典 <br>\n",
    "5、字典或Series的列表 <br>\n",
    "6、由列表或元组组成的列表 <br>\n",
    "7、另一个DataFrame <br>\n"
   ]
  },
  {
   "cell_type": "code",
   "execution_count": null,
   "metadata": {},
   "outputs": [],
   "source": []
  }
 ],
 "metadata": {
  "kernelspec": {
   "display_name": "Python 3",
   "language": "python",
   "name": "python3"
  },
  "language_info": {
   "codemirror_mode": {
    "name": "ipython",
    "version": 3
   },
   "file_extension": ".py",
   "mimetype": "text/x-python",
   "name": "python",
   "nbconvert_exporter": "python",
   "pygments_lexer": "ipython3",
   "version": "3.7.0"
  }
 },
 "nbformat": 4,
 "nbformat_minor": 2
}
